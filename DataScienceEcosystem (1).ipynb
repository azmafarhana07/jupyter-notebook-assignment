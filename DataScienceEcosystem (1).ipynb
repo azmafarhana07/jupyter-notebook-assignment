{
 "cells": [
  {
   "cell_type": "markdown",
   "id": "d364c6ff-ba30-410a-81db-d17aaa3ca170",
   "metadata": {},
   "source": [
    "# Data Science Tools and Ecosystem"
   ]
  },
  {
   "cell_type": "markdown",
   "id": "c753ee42-6069-4689-818a-a6979b93c872",
   "metadata": {},
   "source": [
    "In this notebook, Data Science Tools and Ecosystem are summarized.\n"
   ]
  },
  {
   "cell_type": "markdown",
   "id": "f29afa2a-6dc1-4c43-b6cb-05f615cd687e",
   "metadata": {},
   "source": [
    "__Objectives:__\n",
    "  \n",
    "- List Popular languages for data science\n",
    "- List Commonly used libraries\n",
    "- List Data Science tools\n",
    "- Evaluate arithmetic expressions"
   ]
  },
  {
   "cell_type": "markdown",
   "id": "08fd911a-8f63-4995-9aed-9d033f1bfa3d",
   "metadata": {},
   "source": [
    "Some of the popular languages that Data Scientists use are:\n",
    "1. Python\n",
    "2. SQL\n",
    "3. R\n",
    "4. Scala"
   ]
  },
  {
   "cell_type": "markdown",
   "id": "2f027ef4-83e7-4870-b543-57b0d16229dd",
   "metadata": {},
   "source": [
    "Some of the commonly used libraries used by Data Scientists include:\n",
    "1. Matplotlib\n",
    "2. Numpy\n",
    "3. Scikit\n"
   ]
  },
  {
   "cell_type": "markdown",
   "id": "f9f765f9-0db3-4071-9fcd-29fed05a5624",
   "metadata": {},
   "source": [
    "|Data Science Tools|\n",
    "|--------------------|\n",
    "|Jupyter Notebook|\n",
    "|RStudio|\n",
    "|Apache Hadoop|\n",
    "\n"
   ]
  },
  {
   "cell_type": "markdown",
   "id": "2e139d0c-be12-417b-9a99-a5e121517d6a",
   "metadata": {},
   "source": [
    "### Below are a few examples of evaluating arithmetic expressions in Python"
   ]
  },
  {
   "cell_type": "code",
   "execution_count": 3,
   "id": "12214fc0-530b-4332-a37e-7630818e41e7",
   "metadata": {},
   "outputs": [
    {
     "name": "stdout",
     "output_type": "stream",
     "text": [
      "17\n"
     ]
    }
   ],
   "source": [
    "#This a simple arithmetic expression to multiply then add integers.\n",
    "\n",
    "print((3*4)+5)"
   ]
  },
  {
   "cell_type": "code",
   "execution_count": 4,
   "id": "26fdfb39-f7e8-42a8-94db-edc881e74856",
   "metadata": {},
   "outputs": [
    {
     "name": "stdout",
     "output_type": "stream",
     "text": [
      "3.3333333333333335 hours\n"
     ]
    }
   ],
   "source": [
    "# This will convert 200 minutes to hours by diving by 60\n",
    "print(200/60, \"hours\")"
   ]
  },
  {
   "cell_type": "markdown",
   "id": "a48e0c6e-4a96-4b36-b242-e3c58ed014e0",
   "metadata": {},
   "source": [
    "## Author\n",
    "Azma Farhana"
   ]
  }
 ],
 "metadata": {
  "kernelspec": {
   "display_name": "Python 3 (ipykernel)",
   "language": "python",
   "name": "python3"
  },
  "language_info": {
   "codemirror_mode": {
    "name": "ipython",
    "version": 3
   },
   "file_extension": ".py",
   "mimetype": "text/x-python",
   "name": "python",
   "nbconvert_exporter": "python",
   "pygments_lexer": "ipython3",
   "version": "3.12.8"
  }
 },
 "nbformat": 4,
 "nbformat_minor": 5
}
